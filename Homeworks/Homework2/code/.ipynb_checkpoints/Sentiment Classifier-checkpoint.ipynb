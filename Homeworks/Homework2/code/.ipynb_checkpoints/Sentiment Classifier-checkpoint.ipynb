{
 "cells": [
  {
   "cell_type": "code",
   "execution_count": 73,
   "metadata": {},
   "outputs": [],
   "source": [
    "import numpy as np\n",
    "import torch\n",
    "import torch.nn as nn\n",
    "import torch.nn.functional as F\n",
    "import torch.optim as optim"
   ]
  },
  {
   "cell_type": "code",
   "execution_count": 40,
   "metadata": {},
   "outputs": [],
   "source": [
    "def read_data(path):\n",
    "    f = open(path,'r')\n",
    "    text = f.read()\n",
    "    examples = [example.split(' ') for example in text.split('\\n')[:-1]]\n",
    "    labels = [int(line[0]) for line in examples]\n",
    "    data = [line[1:] for line in examples]\n",
    "    return data,np.array(labels)"
   ]
  },
  {
   "cell_type": "code",
   "execution_count": 46,
   "metadata": {},
   "outputs": [],
   "source": [
    "train_data, train_labels = read_data('data/train.txt')\n",
    "dev_data, dev_labels = read_data('data/dev.txt')\n",
    "test_data, test_labels = read_data('data/test.txt')"
   ]
  },
  {
   "cell_type": "code",
   "execution_count": 58,
   "metadata": {},
   "outputs": [],
   "source": [
    "def create_vocab(data):\n",
    "    flatten = [w for line in data for w in line]\n",
    "    unique = list(set(flatten))\n",
    "    word2idx = {word: idx for idx,word in enumerate(unique)}\n",
    "    return unique,word2idx"
   ]
  },
  {
   "cell_type": "code",
   "execution_count": 119,
   "metadata": {},
   "outputs": [],
   "source": [
    "def create_bag_of_words(data, word2idx=None):\n",
    "    if word2idx is None:\n",
    "        raise Error('create_bag_of_words need a word2idx mapping!')\n",
    "    bag_of_words = np.zeros((len(data), len(word2idx)))\n",
    "    for line in range(len(data)):\n",
    "        for word in data[line]:\n",
    "            if word in word2idx:\n",
    "                bag_of_words[line][word2idx[word]] += 1\n",
    "    return torch.tensor(bag_of_words).float()"
   ]
  },
  {
   "cell_type": "code",
   "execution_count": 120,
   "metadata": {},
   "outputs": [],
   "source": [
    "class BagOfWordsClassifier(nn.Module):\n",
    "\n",
    "    # Initialize the classifier\n",
    "    def __init__(self, num_labels, vocab_size):\n",
    "        super(BagOfWordsClassifier, self).__init__()\n",
    "\n",
    "        self.linear = nn.Linear(vocab_size, num_labels)\n",
    "        \n",
    "    def forward(self, bow_vec):\n",
    "        # Pass the input through the linear layer,\n",
    "        # then pass that through log_softmax.\n",
    "        # Many non-linearities and other functions are in torch.nn.functional\n",
    "        z1 = self.linear(bow_vec)\n",
    "        return F.log_softmax(z1, dim=1)"
   ]
  },
  {
   "cell_type": "code",
   "execution_count": 121,
   "metadata": {},
   "outputs": [],
   "source": [
    "train_vocab, train_word2idx = create_vocab(train_data)\n",
    "model = BagOfWordsClassifier(2, len(train_vocab))"
   ]
  },
  {
   "cell_type": "code",
   "execution_count": 123,
   "metadata": {},
   "outputs": [],
   "source": [
    "## Get log probs before training\n",
    "with torch.no_grad():\n",
    "    for data, label in zip(dev_data,dev_labels):\n",
    "        bow_vec = create_bag_of_words(data, word2idx=train_word2idx)\n",
    "        log_probs = model(bow_vec)"
   ]
  },
  {
   "cell_type": "code",
   "execution_count": 124,
   "metadata": {},
   "outputs": [],
   "source": [
    "loss_function = nn.NLLLoss()\n",
    "optimizer = optim.SGD(model.parameters(), lr=0.1)"
   ]
  },
  {
   "cell_type": "code",
   "execution_count": null,
   "metadata": {},
   "outputs": [],
   "source": [
    "for epoch in range(20):\n",
    "    for data, label in zip(train_data, train_labels):\n",
    "        # Step 1. Remember that PyTorch accumulates gradients.\n",
    "        # We need to clear them out before each instance\n",
    "        model.zero_grad()\n",
    "\n",
    "        # Step 2. Make our BOW vector and also we must wrap the target in a\n",
    "        # Tensor as an integer. For example, if the target is SPANISH, then\n",
    "        # we wrap the integer 0. The loss function then knows that the 0th\n",
    "        # element of the log probabilities is the log probability\n",
    "        # corresponding to SPANISH\n",
    "        bow_vec = make_bow_vector(instance, word_to_ix)\n",
    "        target = make_target(label, label_to_ix)\n",
    "\n",
    "        # Step 3. Run our forward pass.\n",
    "        log_probs = model(bow_vec)\n",
    "\n",
    "        # Step 4. Compute the loss, gradients, and update the parameters by\n",
    "        # calling optimizer.step()\n",
    "        loss = loss_function(log_probs, target)\n",
    "        loss.backward()\n",
    "        optimizer.step()"
   ]
  },
  {
   "cell_type": "code",
   "execution_count": null,
   "metadata": {},
   "outputs": [],
   "source": []
  }
 ],
 "metadata": {
  "kernelspec": {
   "display_name": "Python 3",
   "language": "python",
   "name": "python3"
  },
  "language_info": {
   "codemirror_mode": {
    "name": "ipython",
    "version": 3
   },
   "file_extension": ".py",
   "mimetype": "text/x-python",
   "name": "python",
   "nbconvert_exporter": "python",
   "pygments_lexer": "ipython3",
   "version": "3.7.1"
  }
 },
 "nbformat": 4,
 "nbformat_minor": 2
}
