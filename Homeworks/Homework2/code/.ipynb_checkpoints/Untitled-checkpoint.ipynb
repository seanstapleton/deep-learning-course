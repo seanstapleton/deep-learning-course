{
 "cells": [
  {
   "cell_type": "code",
   "execution_count": 2,
   "metadata": {},
   "outputs": [],
   "source": [
    "import pickle\n",
    "import numpy as np"
   ]
  },
  {
   "cell_type": "code",
   "execution_count": 3,
   "metadata": {},
   "outputs": [],
   "source": [
    "losses = pickle.load( open( \"losses.pickle\", \"rb\" ) )"
   ]
  },
  {
   "cell_type": "code",
   "execution_count": 5,
   "metadata": {},
   "outputs": [],
   "source": [
    "composition_vii = losses['composition_vii']\n",
    "scream = losses['scream']\n",
    "starry_night = losses['starry_night']"
   ]
  },
  {
   "cell_type": "code",
   "execution_count": 23,
   "metadata": {},
   "outputs": [],
   "source": [
    "composition_vii = [np.sum(c.detach().numpy()) for c in composition_vii]\n",
    "scream = [np.sum(c.detach().numpy()) for c in scream]\n",
    "starry_night = [np.sum(c.detach().numpy()) for c in starry_night]"
   ]
  },
  {
   "cell_type": "code",
   "execution_count": 25,
   "metadata": {},
   "outputs": [],
   "source": [
    "import matplotlib.pyplot as plt"
   ]
  },
  {
   "cell_type": "code",
   "execution_count": null,
   "metadata": {},
   "outputs": [],
   "source": []
  },
  {
   "cell_type": "code",
   "execution_count": 44,
   "metadata": {},
   "outputs": [
    {
     "data": {
      "image/png": "[encoded data removed]",
      "text/plain": [
       "<Figure size 432x288 with 1 Axes>"
      ]
     },
     "metadata": {
      "needs_background": "light"
     },
     "output_type": "display_data"
    }
   ],
   "source": [
    "fig = plt.figure()\n",
    "ax = fig.add_subplot(1, 1, 1)\n",
    "ax.plot(starry_night)\n",
    "ax.set_yscale('log')\n",
    "fig.suptitle('Loss Curve for Starry Night')\n",
    "plt.xlabel('Iteration')\n",
    "plt.ylabel('Loss (logarithmic scale)')\n",
    "plt.show()"
   ]
  },
  {
   "cell_type": "code",
   "execution_count": 64,
   "metadata": {},
   "outputs": [
    {
     "data": {
      "text/plain": [
       "array([[0., 0., 0., 0., 1., 1., 1., 1., 0., 0., 0., 0.],\n",
       "       [0., 0., 0., 0., 1., 1., 1., 1., 0., 0., 0., 0.],\n",
       "       [0., 0., 0., 0., 1., 1., 1., 1., 0., 0., 0., 0.],\n",
       "       [0., 0., 0., 0., 1., 1., 1., 1., 0., 0., 0., 0.],\n",
       "       [0., 0., 0., 0., 1., 1., 1., 1., 0., 0., 0., 0.],\n",
       "       [0., 0., 0., 0., 1., 1., 1., 1., 0., 0., 0., 0.],\n",
       "       [0., 0., 0., 0., 1., 1., 1., 1., 0., 0., 0., 0.],\n",
       "       [0., 0., 0., 0., 1., 1., 1., 1., 0., 0., 0., 0.],\n",
       "       [0., 0., 0., 0., 1., 1., 1., 1., 0., 0., 0., 0.],\n",
       "       [0., 0., 0., 0., 1., 1., 1., 1., 0., 0., 0., 0.]])"
      ]
     },
     "execution_count": 64,
     "metadata": {},
     "output_type": "execute_result"
    }
   ],
   "source": [
    "np.hstack((np.zeros((10,8))[:,:4],np.ones((10,8))[:,4:], np.zeros((10,8))[:,4:]))"
   ]
  },
  {
   "cell_type": "code",
   "execution_count": 69,
   "metadata": {},
   "outputs": [
    {
     "data": {
      "text/plain": [
       "(10, 2, 100)"
      ]
     },
     "execution_count": 69,
     "metadata": {},
     "output_type": "execute_result"
    }
   ],
   "source": [
    "a = np.zeros((10,2,4))\n",
    "b = np.ones((4,100))\n",
    "(np.matmul(a,b) + np.ones((100,))).shape"
   ]
  },
  {
   "cell_type": "code",
   "execution_count": null,
   "metadata": {},
   "outputs": [],
   "source": [
    "list(range(10,,-1))"
   ]
  },
  {
   "cell_type": "code",
   "execution_count": 71,
   "metadata": {},
   "outputs": [
    {
     "ename": "ValueError",
     "evalue": "shapes (2,5,10) and (10,5,8) not aligned: 10 (dim 2) != 5 (dim 1)",
     "output_type": "error",
     "traceback": [
      "\u001b[0;31m---------------------------------------------------------------------------\u001b[0m",
      "\u001b[0;31mValueError\u001b[0m                                Traceback (most recent call last)",
      "\u001b[0;32m<ipython-input-71-e083fafa9e98>\u001b[0m in \u001b[0;36m<module>\u001b[0;34m\u001b[0m\n\u001b[0;32m----> 1\u001b[0;31m \u001b[0mnp\u001b[0m\u001b[0;34m.\u001b[0m\u001b[0mmatmul\u001b[0m\u001b[0;34m(\u001b[0m\u001b[0mnp\u001b[0m\u001b[0;34m.\u001b[0m\u001b[0mzeros\u001b[0m\u001b[0;34m(\u001b[0m\u001b[0;34m(\u001b[0m\u001b[0;36m10\u001b[0m\u001b[0;34m,\u001b[0m\u001b[0;36m5\u001b[0m\u001b[0;34m,\u001b[0m\u001b[0;36m2\u001b[0m\u001b[0;34m)\u001b[0m\u001b[0;34m)\u001b[0m\u001b[0;34m.\u001b[0m\u001b[0mT\u001b[0m\u001b[0;34m,\u001b[0m \u001b[0mnp\u001b[0m\u001b[0;34m.\u001b[0m\u001b[0mzeros\u001b[0m\u001b[0;34m(\u001b[0m\u001b[0;34m(\u001b[0m\u001b[0;36m10\u001b[0m\u001b[0;34m,\u001b[0m\u001b[0;36m5\u001b[0m\u001b[0;34m,\u001b[0m\u001b[0;36m8\u001b[0m\u001b[0;34m)\u001b[0m\u001b[0;34m)\u001b[0m\u001b[0;34m)\u001b[0m\u001b[0;34m.\u001b[0m\u001b[0mshape\u001b[0m\u001b[0;34m\u001b[0m\u001b[0;34m\u001b[0m\u001b[0m\n\u001b[0m",
      "\u001b[0;31mValueError\u001b[0m: shapes (2,5,10) and (10,5,8) not aligned: 10 (dim 2) != 5 (dim 1)"
     ]
    }
   ],
   "source": [
    "np.matmul(np.zeros((10,5,2)).T, np.zeros((10,5,8))).shape"
   ]
  },
  {
   "cell_type": "code",
   "execution_count": 94,
   "metadata": {},
   "outputs": [],
   "source": [
    "a = np.array(list(range(10*6*8))).reshape((10,6,8))"
   ]
  },
  {
   "cell_type": "code",
   "execution_count": 160,
   "metadata": {},
   "outputs": [],
   "source": [
    "y = np.ones((10,6))\n",
    "y *= np.array(list(reversed(range(6)))).reshape((1,-1))"
   ]
  },
  {
   "cell_type": "code",
   "execution_count": 161,
   "metadata": {},
   "outputs": [
    {
     "data": {
      "text/plain": [
       "array([[5., 4., 3., 2., 1., 0.],\n",
       "       [5., 4., 3., 2., 1., 0.],\n",
       "       [5., 4., 3., 2., 1., 0.],\n",
       "       [5., 4., 3., 2., 1., 0.],\n",
       "       [5., 4., 3., 2., 1., 0.],\n",
       "       [5., 4., 3., 2., 1., 0.],\n",
       "       [5., 4., 3., 2., 1., 0.],\n",
       "       [5., 4., 3., 2., 1., 0.],\n",
       "       [5., 4., 3., 2., 1., 0.],\n",
       "       [5., 4., 3., 2., 1., 0.]])"
      ]
     },
     "execution_count": 161,
     "metadata": {},
     "output_type": "execute_result"
    }
   ],
   "source": []
  },
  {
   "cell_type": "code",
   "execution_count": 154,
   "metadata": {},
   "outputs": [
    {
     "data": {
      "text/plain": [
       "array([[[[  0,   1,   2, ...,   5,   6,   7],\n",
       "         [  8,   9,  10, ...,  13,  14,  15],\n",
       "         [ 16,  17,  18, ...,  21,  22,  23],\n",
       "         [ 24,  25,  26, ...,  29,  30,  31],\n",
       "         [ 32,  33,  34, ...,  37,  38,  39],\n",
       "         [ 40,  41,  42, ...,  45,  46,  47]],\n",
       "\n",
       "        [[ 48,  49,  50, ...,  53,  54,  55],\n",
       "         [ 56,  57,  58, ...,  61,  62,  63],\n",
       "         [ 64,  65,  66, ...,  69,  70,  71],\n",
       "         [ 72,  73,  74, ...,  77,  78,  79],\n",
       "         [ 80,  81,  82, ...,  85,  86,  87],\n",
       "         [ 88,  89,  90, ...,  93,  94,  95]],\n",
       "\n",
       "        [[ 96,  97,  98, ..., 101, 102, 103],\n",
       "         [104, 105, 106, ..., 109, 110, 111],\n",
       "         [112, 113, 114, ..., 117, 118, 119],\n",
       "         [120, 121, 122, ..., 125, 126, 127],\n",
       "         [128, 129, 130, ..., 133, 134, 135],\n",
       "         [136, 137, 138, ..., 141, 142, 143]],\n",
       "\n",
       "        [[144, 145, 146, ..., 149, 150, 151],\n",
       "         [152, 153, 154, ..., 157, 158, 159],\n",
       "         [160, 161, 162, ..., 165, 166, 167],\n",
       "         [168, 169, 170, ..., 173, 174, 175],\n",
       "         [176, 177, 178, ..., 181, 182, 183],\n",
       "         [184, 185, 186, ..., 189, 190, 191]],\n",
       "\n",
       "        [[192, 193, 194, ..., 197, 198, 199],\n",
       "         [200, 201, 202, ..., 205, 206, 207],\n",
       "         [208, 209, 210, ..., 213, 214, 215],\n",
       "         [216, 217, 218, ..., 221, 222, 223],\n",
       "         [224, 225, 226, ..., 229, 230, 231],\n",
       "         [232, 233, 234, ..., 237, 238, 239]],\n",
       "\n",
       "        [[240, 241, 242, ..., 245, 246, 247],\n",
       "         [248, 249, 250, ..., 253, 254, 255],\n",
       "         [256, 257, 258, ..., 261, 262, 263],\n",
       "         [264, 265, 266, ..., 269, 270, 271],\n",
       "         [272, 273, 274, ..., 277, 278, 279],\n",
       "         [280, 281, 282, ..., 285, 286, 287]]],\n",
       "\n",
       "\n",
       "       [[[  0,   1,   2, ...,   5,   6,   7],\n",
       "         [  8,   9,  10, ...,  13,  14,  15],\n",
       "         [ 16,  17,  18, ...,  21,  22,  23],\n",
       "         [ 24,  25,  26, ...,  29,  30,  31],\n",
       "         [ 32,  33,  34, ...,  37,  38,  39],\n",
       "         [ 40,  41,  42, ...,  45,  46,  47]],\n",
       "\n",
       "        [[ 48,  49,  50, ...,  53,  54,  55],\n",
       "         [ 56,  57,  58, ...,  61,  62,  63],\n",
       "         [ 64,  65,  66, ...,  69,  70,  71],\n",
       "         [ 72,  73,  74, ...,  77,  78,  79],\n",
       "         [ 80,  81,  82, ...,  85,  86,  87],\n",
       "         [ 88,  89,  90, ...,  93,  94,  95]],\n",
       "\n",
       "        [[ 96,  97,  98, ..., 101, 102, 103],\n",
       "         [104, 105, 106, ..., 109, 110, 111],\n",
       "         [112, 113, 114, ..., 117, 118, 119],\n",
       "         [120, 121, 122, ..., 125, 126, 127],\n",
       "         [128, 129, 130, ..., 133, 134, 135],\n",
       "         [136, 137, 138, ..., 141, 142, 143]],\n",
       "\n",
       "        [[144, 145, 146, ..., 149, 150, 151],\n",
       "         [152, 153, 154, ..., 157, 158, 159],\n",
       "         [160, 161, 162, ..., 165, 166, 167],\n",
       "         [168, 169, 170, ..., 173, 174, 175],\n",
       "         [176, 177, 178, ..., 181, 182, 183],\n",
       "         [184, 185, 186, ..., 189, 190, 191]],\n",
       "\n",
       "        [[192, 193, 194, ..., 197, 198, 199],\n",
       "         [200, 201, 202, ..., 205, 206, 207],\n",
       "         [208, 209, 210, ..., 213, 214, 215],\n",
       "         [216, 217, 218, ..., 221, 222, 223],\n",
       "         [224, 225, 226, ..., 229, 230, 231],\n",
       "         [232, 233, 234, ..., 237, 238, 239]],\n",
       "\n",
       "        [[240, 241, 242, ..., 245, 246, 247],\n",
       "         [248, 249, 250, ..., 253, 254, 255],\n",
       "         [256, 257, 258, ..., 261, 262, 263],\n",
       "         [264, 265, 266, ..., 269, 270, 271],\n",
       "         [272, 273, 274, ..., 277, 278, 279],\n",
       "         [280, 281, 282, ..., 285, 286, 287]]],\n",
       "\n",
       "\n",
       "       [[[  0,   1,   2, ...,   5,   6,   7],\n",
       "         [  8,   9,  10, ...,  13,  14,  15],\n",
       "         [ 16,  17,  18, ...,  21,  22,  23],\n",
       "         [ 24,  25,  26, ...,  29,  30,  31],\n",
       "         [ 32,  33,  34, ...,  37,  38,  39],\n",
       "         [ 40,  41,  42, ...,  45,  46,  47]],\n",
       "\n",
       "        [[ 48,  49,  50, ...,  53,  54,  55],\n",
       "         [ 56,  57,  58, ...,  61,  62,  63],\n",
       "         [ 64,  65,  66, ...,  69,  70,  71],\n",
       "         [ 72,  73,  74, ...,  77,  78,  79],\n",
       "         [ 80,  81,  82, ...,  85,  86,  87],\n",
       "         [ 88,  89,  90, ...,  93,  94,  95]],\n",
       "\n",
       "        [[ 96,  97,  98, ..., 101, 102, 103],\n",
       "         [104, 105, 106, ..., 109, 110, 111],\n",
       "         [112, 113, 114, ..., 117, 118, 119],\n",
       "         [120, 121, 122, ..., 125, 126, 127],\n",
       "         [128, 129, 130, ..., 133, 134, 135],\n",
       "         [136, 137, 138, ..., 141, 142, 143]],\n",
       "\n",
       "        [[144, 145, 146, ..., 149, 150, 151],\n",
       "         [152, 153, 154, ..., 157, 158, 159],\n",
       "         [160, 161, 162, ..., 165, 166, 167],\n",
       "         [168, 169, 170, ..., 173, 174, 175],\n",
       "         [176, 177, 178, ..., 181, 182, 183],\n",
       "         [184, 185, 186, ..., 189, 190, 191]],\n",
       "\n",
       "        [[192, 193, 194, ..., 197, 198, 199],\n",
       "         [200, 201, 202, ..., 205, 206, 207],\n",
       "         [208, 209, 210, ..., 213, 214, 215],\n",
       "         [216, 217, 218, ..., 221, 222, 223],\n",
       "         [224, 225, 226, ..., 229, 230, 231],\n",
       "         [232, 233, 234, ..., 237, 238, 239]],\n",
       "\n",
       "        [[240, 241, 242, ..., 245, 246, 247],\n",
       "         [248, 249, 250, ..., 253, 254, 255],\n",
       "         [256, 257, 258, ..., 261, 262, 263],\n",
       "         [264, 265, 266, ..., 269, 270, 271],\n",
       "         [272, 273, 274, ..., 277, 278, 279],\n",
       "         [280, 281, 282, ..., 285, 286, 287]]],\n",
       "\n",
       "\n",
       "       ...,\n",
       "\n",
       "\n",
       "       [[[  0,   1,   2, ...,   5,   6,   7],\n",
       "         [  8,   9,  10, ...,  13,  14,  15],\n",
       "         [ 16,  17,  18, ...,  21,  22,  23],\n",
       "         [ 24,  25,  26, ...,  29,  30,  31],\n",
       "         [ 32,  33,  34, ...,  37,  38,  39],\n",
       "         [ 40,  41,  42, ...,  45,  46,  47]],\n",
       "\n",
       "        [[ 48,  49,  50, ...,  53,  54,  55],\n",
       "         [ 56,  57,  58, ...,  61,  62,  63],\n",
       "         [ 64,  65,  66, ...,  69,  70,  71],\n",
       "         [ 72,  73,  74, ...,  77,  78,  79],\n",
       "         [ 80,  81,  82, ...,  85,  86,  87],\n",
       "         [ 88,  89,  90, ...,  93,  94,  95]],\n",
       "\n",
       "        [[ 96,  97,  98, ..., 101, 102, 103],\n",
       "         [104, 105, 106, ..., 109, 110, 111],\n",
       "         [112, 113, 114, ..., 117, 118, 119],\n",
       "         [120, 121, 122, ..., 125, 126, 127],\n",
       "         [128, 129, 130, ..., 133, 134, 135],\n",
       "         [136, 137, 138, ..., 141, 142, 143]],\n",
       "\n",
       "        [[144, 145, 146, ..., 149, 150, 151],\n",
       "         [152, 153, 154, ..., 157, 158, 159],\n",
       "         [160, 161, 162, ..., 165, 166, 167],\n",
       "         [168, 169, 170, ..., 173, 174, 175],\n",
       "         [176, 177, 178, ..., 181, 182, 183],\n",
       "         [184, 185, 186, ..., 189, 190, 191]],\n",
       "\n",
       "        [[192, 193, 194, ..., 197, 198, 199],\n",
       "         [200, 201, 202, ..., 205, 206, 207],\n",
       "         [208, 209, 210, ..., 213, 214, 215],\n",
       "         [216, 217, 218, ..., 221, 222, 223],\n",
       "         [224, 225, 226, ..., 229, 230, 231],\n",
       "         [232, 233, 234, ..., 237, 238, 239]],\n",
       "\n",
       "        [[240, 241, 242, ..., 245, 246, 247],\n",
       "         [248, 249, 250, ..., 253, 254, 255],\n",
       "         [256, 257, 258, ..., 261, 262, 263],\n",
       "         [264, 265, 266, ..., 269, 270, 271],\n",
       "         [272, 273, 274, ..., 277, 278, 279],\n",
       "         [280, 281, 282, ..., 285, 286, 287]]],\n",
       "\n",
       "\n",
       "       [[[  0,   1,   2, ...,   5,   6,   7],\n",
       "         [  8,   9,  10, ...,  13,  14,  15],\n",
       "         [ 16,  17,  18, ...,  21,  22,  23],\n",
       "         [ 24,  25,  26, ...,  29,  30,  31],\n",
       "         [ 32,  33,  34, ...,  37,  38,  39],\n",
       "         [ 40,  41,  42, ...,  45,  46,  47]],\n",
       "\n",
       "        [[ 48,  49,  50, ...,  53,  54,  55],\n",
       "         [ 56,  57,  58, ...,  61,  62,  63],\n",
       "         [ 64,  65,  66, ...,  69,  70,  71],\n",
       "         [ 72,  73,  74, ...,  77,  78,  79],\n",
       "         [ 80,  81,  82, ...,  85,  86,  87],\n",
       "         [ 88,  89,  90, ...,  93,  94,  95]],\n",
       "\n",
       "        [[ 96,  97,  98, ..., 101, 102, 103],\n",
       "         [104, 105, 106, ..., 109, 110, 111],\n",
       "         [112, 113, 114, ..., 117, 118, 119],\n",
       "         [120, 121, 122, ..., 125, 126, 127],\n",
       "         [128, 129, 130, ..., 133, 134, 135],\n",
       "         [136, 137, 138, ..., 141, 142, 143]],\n",
       "\n",
       "        [[144, 145, 146, ..., 149, 150, 151],\n",
       "         [152, 153, 154, ..., 157, 158, 159],\n",
       "         [160, 161, 162, ..., 165, 166, 167],\n",
       "         [168, 169, 170, ..., 173, 174, 175],\n",
       "         [176, 177, 178, ..., 181, 182, 183],\n",
       "         [184, 185, 186, ..., 189, 190, 191]],\n",
       "\n",
       "        [[192, 193, 194, ..., 197, 198, 199],\n",
       "         [200, 201, 202, ..., 205, 206, 207],\n",
       "         [208, 209, 210, ..., 213, 214, 215],\n",
       "         [216, 217, 218, ..., 221, 222, 223],\n",
       "         [224, 225, 226, ..., 229, 230, 231],\n",
       "         [232, 233, 234, ..., 237, 238, 239]],\n",
       "\n",
       "        [[240, 241, 242, ..., 245, 246, 247],\n",
       "         [248, 249, 250, ..., 253, 254, 255],\n",
       "         [256, 257, 258, ..., 261, 262, 263],\n",
       "         [264, 265, 266, ..., 269, 270, 271],\n",
       "         [272, 273, 274, ..., 277, 278, 279],\n",
       "         [280, 281, 282, ..., 285, 286, 287]]],\n",
       "\n",
       "\n",
       "       [[[  0,   1,   2, ...,   5,   6,   7],\n",
       "         [  8,   9,  10, ...,  13,  14,  15],\n",
       "         [ 16,  17,  18, ...,  21,  22,  23],\n",
       "         [ 24,  25,  26, ...,  29,  30,  31],\n",
       "         [ 32,  33,  34, ...,  37,  38,  39],\n",
       "         [ 40,  41,  42, ...,  45,  46,  47]],\n",
       "\n",
       "        [[ 48,  49,  50, ...,  53,  54,  55],\n",
       "         [ 56,  57,  58, ...,  61,  62,  63],\n",
       "         [ 64,  65,  66, ...,  69,  70,  71],\n",
       "         [ 72,  73,  74, ...,  77,  78,  79],\n",
       "         [ 80,  81,  82, ...,  85,  86,  87],\n",
       "         [ 88,  89,  90, ...,  93,  94,  95]],\n",
       "\n",
       "        [[ 96,  97,  98, ..., 101, 102, 103],\n",
       "         [104, 105, 106, ..., 109, 110, 111],\n",
       "         [112, 113, 114, ..., 117, 118, 119],\n",
       "         [120, 121, 122, ..., 125, 126, 127],\n",
       "         [128, 129, 130, ..., 133, 134, 135],\n",
       "         [136, 137, 138, ..., 141, 142, 143]],\n",
       "\n",
       "        [[144, 145, 146, ..., 149, 150, 151],\n",
       "         [152, 153, 154, ..., 157, 158, 159],\n",
       "         [160, 161, 162, ..., 165, 166, 167],\n",
       "         [168, 169, 170, ..., 173, 174, 175],\n",
       "         [176, 177, 178, ..., 181, 182, 183],\n",
       "         [184, 185, 186, ..., 189, 190, 191]],\n",
       "\n",
       "        [[192, 193, 194, ..., 197, 198, 199],\n",
       "         [200, 201, 202, ..., 205, 206, 207],\n",
       "         [208, 209, 210, ..., 213, 214, 215],\n",
       "         [216, 217, 218, ..., 221, 222, 223],\n",
       "         [224, 225, 226, ..., 229, 230, 231],\n",
       "         [232, 233, 234, ..., 237, 238, 239]],\n",
       "\n",
       "        [[240, 241, 242, ..., 245, 246, 247],\n",
       "         [248, 249, 250, ..., 253, 254, 255],\n",
       "         [256, 257, 258, ..., 261, 262, 263],\n",
       "         [264, 265, 266, ..., 269, 270, 271],\n",
       "         [272, 273, 274, ..., 277, 278, 279],\n",
       "         [280, 281, 282, ..., 285, 286, 287]]]])"
      ]
     },
     "execution_count": 154,
     "metadata": {},
     "output_type": "execute_result"
    }
   ],
   "source": [
    "a[y.astype(int)]"
   ]
  },
  {
   "cell_type": "code",
   "execution_count": 148,
   "metadata": {},
   "outputs": [
    {
     "data": {
      "text/plain": [
       "[0.0, 0.0, 0.0, 0.0, 0.0, 0.0, 0.0, 0.0, 0.0, 0.0]"
      ]
     },
     "execution_count": 148,
     "metadata": {},
     "output_type": "execute_result"
    }
   ],
   "source": [
    "y[:,0].tolist()"
   ]
  },
  {
   "cell_type": "code",
   "execution_count": 108,
   "metadata": {},
   "outputs": [
    {
     "data": {
      "text/plain": [
       "array([[  0,   9,  18,  27,  36,  45],\n",
       "       [ 48,  57,  66,  75,  84,  93],\n",
       "       [ 96, 105, 114, 123, 132, 141],\n",
       "       [144, 153, 162, 171, 180, 189],\n",
       "       [192, 201, 210, 219, 228, 237],\n",
       "       [240, 249, 258, 267, 276, 285],\n",
       "       [288, 297, 306, 315, 324, 333],\n",
       "       [336, 345, 354, 363, 372, 381],\n",
       "       [384, 393, 402, 411, 420, 429],\n",
       "       [432, 441, 450, 459, 468, 477]])"
      ]
     },
     "execution_count": 108,
     "metadata": {},
     "output_type": "execute_result"
    }
   ],
   "source": [
    "a[:,range(6),range(6)]"
   ]
  },
  {
   "cell_type": "code",
   "execution_count": 113,
   "metadata": {},
   "outputs": [
    {
     "data": {
      "text/plain": [
       "array([0., 0., 0., 0., 0., 0., 0., 0., 0., 0.])"
      ]
     },
     "execution_count": 113,
     "metadata": {},
     "output_type": "execute_result"
    }
   ],
   "source": [
    "np.zeros((10,5))[range(10),[1]*10]"
   ]
  },
  {
   "cell_type": "code",
   "execution_count": null,
   "metadata": {},
   "outputs": [],
   "source": []
  }
 ],
 "metadata": {
  "kernelspec": {
   "display_name": "Python 3",
   "language": "python",
   "name": "python3"
  },
  "language_info": {
   "codemirror_mode": {
    "name": "ipython",
    "version": 3
   },
   "file_extension": ".py",
   "mimetype": "text/x-python",
   "name": "python",
   "nbconvert_exporter": "python",
   "pygments_lexer": "ipython3",
   "version": "3.7.1"
  }
 },
 "nbformat": 4,
 "nbformat_minor": 2
}
