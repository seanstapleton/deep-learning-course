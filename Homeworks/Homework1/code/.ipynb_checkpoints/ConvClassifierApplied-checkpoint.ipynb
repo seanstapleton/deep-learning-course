{
 "cells": [
  {
   "cell_type": "code",
   "execution_count": 1,
   "metadata": {},
   "outputs": [],
   "source": [
    "import numpy as np\n",
    "import pickle\n",
    "from cnn import ConvNet\n",
    "from solver import Solver\n",
    "from sklearn.model_selection import train_test_split"
   ]
  },
  {
   "cell_type": "code",
   "execution_count": 2,
   "metadata": {},
   "outputs": [],
   "source": [
    "pickle_in = open(\"mnist.pkl\",\"rb\")\n",
    "data_in = pickle.load(pickle_in, encoding='latin1')"
   ]
  },
  {
   "cell_type": "code",
   "execution_count": 3,
   "metadata": {},
   "outputs": [],
   "source": [
    "data_train = data_in['training_images']\n",
    "labels_train  = data_in['training_labels']\n",
    "X_train,X_val,y_train,y_val = train_test_split(data_train, labels_train, test_size=0.1)"
   ]
  },
  {
   "cell_type": "code",
   "execution_count": 4,
   "metadata": {},
   "outputs": [],
   "source": [
    "X_train = X_train.reshape((-1,1,28,28))\n",
    "X_val = X_val.reshape((-1,1,28,28))"
   ]
  },
  {
   "cell_type": "code",
   "execution_count": 5,
   "metadata": {},
   "outputs": [
    {
     "name": "stdout",
     "output_type": "stream",
     "text": [
      "(Iteration 96 / 54000) loss: 0.335747\n"
     ]
    },
    {
     "ename": "AttributeError",
     "evalue": "'Solver' object has no attribute 'save_name'",
     "output_type": "error",
     "traceback": [
      "\u001b[0;31m---------------------------------------------------------------------------\u001b[0m",
      "\u001b[0;31mAttributeError\u001b[0m                            Traceback (most recent call last)",
      "\u001b[0;32m<ipython-input-5-88a35ced1a58>\u001b[0m in \u001b[0;36m<module>\u001b[0;34m\u001b[0m\n\u001b[1;32m     18\u001b[0m         \u001b[0mload\u001b[0m\u001b[0;34m=\u001b[0m\u001b[0;34m'convNet1.pkl'\u001b[0m\u001b[0;34m\u001b[0m\u001b[0;34m\u001b[0m\u001b[0m\n\u001b[1;32m     19\u001b[0m     )\n\u001b[0;32m---> 20\u001b[0;31m \u001b[0mval_accuracy\u001b[0m \u001b[0;34m=\u001b[0m \u001b[0msolver\u001b[0m\u001b[0;34m.\u001b[0m\u001b[0mtrain\u001b[0m\u001b[0;34m(\u001b[0m\u001b[0;34m)\u001b[0m\u001b[0;34m\u001b[0m\u001b[0;34m\u001b[0m\u001b[0m\n\u001b[0m",
      "\u001b[0;32m~/school/deep-learning-course/Homeworks/Homework1/code/solver.py\u001b[0m in \u001b[0;36mtrain\u001b[0;34m(self)\u001b[0m\n\u001b[1;32m    281\u001b[0m \u001b[0;34m\u001b[0m\u001b[0m\n\u001b[1;32m    282\u001b[0m       \u001b[0;32mif\u001b[0m \u001b[0mt\u001b[0m \u001b[0;34m%\u001b[0m \u001b[0mself\u001b[0m\u001b[0;34m.\u001b[0m\u001b[0msave_every\u001b[0m \u001b[0;34m==\u001b[0m \u001b[0;36m0\u001b[0m\u001b[0;34m:\u001b[0m\u001b[0;34m\u001b[0m\u001b[0;34m\u001b[0m\u001b[0m\n\u001b[0;32m--> 283\u001b[0;31m         \u001b[0mself\u001b[0m\u001b[0;34m.\u001b[0m\u001b[0m_save\u001b[0m\u001b[0;34m(\u001b[0m\u001b[0mt\u001b[0m\u001b[0;34m)\u001b[0m\u001b[0;34m\u001b[0m\u001b[0;34m\u001b[0m\u001b[0m\n\u001b[0m\u001b[1;32m    284\u001b[0m \u001b[0;34m\u001b[0m\u001b[0m\n\u001b[1;32m    285\u001b[0m       \u001b[0;31m# Check train and val accuracy on the first iteration, the last\u001b[0m\u001b[0;34m\u001b[0m\u001b[0;34m\u001b[0m\u001b[0;34m\u001b[0m\u001b[0m\n",
      "\u001b[0;32m~/school/deep-learning-course/Homeworks/Homework1/code/solver.py\u001b[0m in \u001b[0;36m_save\u001b[0;34m(self, i)\u001b[0m\n\u001b[1;32m    163\u001b[0m         \u001b[0;34m'best_params'\u001b[0m\u001b[0;34m:\u001b[0m \u001b[0mself\u001b[0m\u001b[0;34m.\u001b[0m\u001b[0mbest_params\u001b[0m\u001b[0;34m\u001b[0m\u001b[0;34m\u001b[0m\u001b[0m\n\u001b[1;32m    164\u001b[0m     }\n\u001b[0;32m--> 165\u001b[0;31m     \u001b[0mpickle\u001b[0m\u001b[0;34m.\u001b[0m\u001b[0mdump\u001b[0m\u001b[0;34m(\u001b[0m \u001b[0mdata_to_save\u001b[0m\u001b[0;34m,\u001b[0m \u001b[0mopen\u001b[0m\u001b[0;34m(\u001b[0m \u001b[0mself\u001b[0m\u001b[0;34m.\u001b[0m\u001b[0msave_name\u001b[0m\u001b[0;34m,\u001b[0m \u001b[0;34m\"wb\"\u001b[0m \u001b[0;34m)\u001b[0m \u001b[0;34m)\u001b[0m\u001b[0;34m\u001b[0m\u001b[0;34m\u001b[0m\u001b[0m\n\u001b[0m\u001b[1;32m    166\u001b[0m \u001b[0;34m\u001b[0m\u001b[0m\n\u001b[1;32m    167\u001b[0m \u001b[0;34m\u001b[0m\u001b[0m\n",
      "\u001b[0;31mAttributeError\u001b[0m: 'Solver' object has no attribute 'save_name'"
     ]
    }
   ],
   "source": [
    "data = {\n",
    "    'X_train': X_train,\n",
    "    'y_train': y_train,\n",
    "    'X_val': X_val,\n",
    "    'y_val': y_val\n",
    "}\n",
    "model = ConvNet(input_dim=(1, 28, 28), num_classes=10)\n",
    "solver = Solver(\n",
    "        model,\n",
    "        data,\n",
    "        update_rule='sgd',\n",
    "        optim_config={ 'learning_rate': 0.01 },\n",
    "        lr_decay=1,\n",
    "        num_epochs=100,\n",
    "        batch_size=100,\n",
    "        print_every=1,\n",
    "        save_every=1,\n",
    "        load='convNet1.pkl',\n",
    "        save_name='convNet1.pkl'\n",
    "    )\n",
    "val_accuracy = solver.train()"
   ]
  },
  {
   "cell_type": "code",
   "execution_count": null,
   "metadata": {},
   "outputs": [],
   "source": [
    "# data = {\n",
    "#     'X_train': X_train,\n",
    "#     'y_train': y_train,\n",
    "#     'X_val': X_val,\n",
    "#     'y_val': y_val\n",
    "# }\n",
    "\n",
    "# model = SoftmaxClassifier(input_dim=784,hidden_dim=300)\n",
    "# solver = Solver(\n",
    "#         model,\n",
    "#         data,\n",
    "#         update_rule='sgd',\n",
    "#         optim_config={ 'learning_rate': 0.003 },\n",
    "#         lr_decay=1,\n",
    "#         num_epochs=10,\n",
    "#         batch_size=100,\n",
    "#         print_every=1000\n",
    "#     )\n",
    "# val_accuracy = solver.train()\n"
   ]
  },
  {
   "cell_type": "code",
   "execution_count": null,
   "metadata": {},
   "outputs": [],
   "source": [
    "# data_to_save = {\n",
    "#     'params': solver.model.params,\n",
    "#     'start': 95,\n",
    "#     'epoch': solver.epoch,\n",
    "#     'train_acc_history': solver.train_acc_history,\n",
    "#     'val_acc_history': solver.val_acc_history,\n",
    "#     'best_val_acc': solver.best_val_acc,\n",
    "#     'best_params': solver.best_params\n",
    "# }\n",
    "# pickle.dump( data_to_save, open( 'convNet1.pkl', \"wb\" ) )"
   ]
  },
  {
   "cell_type": "code",
   "execution_count": null,
   "metadata": {},
   "outputs": [],
   "source": []
  },
  {
   "cell_type": "code",
   "execution_count": null,
   "metadata": {},
   "outputs": [],
   "source": []
  },
  {
   "cell_type": "code",
   "execution_count": null,
   "metadata": {},
   "outputs": [],
   "source": []
  }
 ],
 "metadata": {
  "kernelspec": {
   "display_name": "Python 3",
   "language": "python",
   "name": "python3"
  },
  "language_info": {
   "codemirror_mode": {
    "name": "ipython",
    "version": 3
   },
   "file_extension": ".py",
   "mimetype": "text/x-python",
   "name": "python",
   "nbconvert_exporter": "python",
   "pygments_lexer": "ipython3",
   "version": "3.7.1"
  }
 },
 "nbformat": 4,
 "nbformat_minor": 2
}
