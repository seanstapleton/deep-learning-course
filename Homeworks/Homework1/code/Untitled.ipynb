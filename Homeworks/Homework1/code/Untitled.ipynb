{
 "cells": [
  {
   "cell_type": "code",
   "execution_count": 2,
   "metadata": {},
   "outputs": [],
   "source": [
    "import numpy as np\n",
    "from scipy import signal"
   ]
  },
  {
   "cell_type": "code",
   "execution_count": 55,
   "metadata": {},
   "outputs": [],
   "source": [
    "x = np.array([list(range(i*6,i*6+6)) for i in range(6)])\n",
    "w = np.array([[0,0,0],[1,0,0],[0,0,0]])"
   ]
  },
  {
   "cell_type": "code",
   "execution_count": 180,
   "metadata": {},
   "outputs": [
    {
     "data": {
      "text/plain": [
       "array([[0., 1., 2., 0., 0., 0.],\n",
       "       [3., 4., 5., 0., 0., 0.],\n",
       "       [6., 7., 8., 0., 0., 0.],\n",
       "       [0., 0., 0., 0., 0., 0.],\n",
       "       [0., 0., 0., 0., 0., 0.],\n",
       "       [0., 0., 0., 0., 0., 0.]])"
      ]
     },
     "execution_count": 180,
     "metadata": {},
     "output_type": "execute_result"
    }
   ],
   "source": [
    "x = np.array([[ 0,  1,  2,  0,  0,  0],\n",
    "       [ 3,  4,  5,  0, 0, 0],\n",
    "       [6, 7, 8, 0, 0, 0],\n",
    "       [0., 0., 0., 0., 0., 0.],\n",
    "       [0., 0., 0., 0., 0., 0.],\n",
    "       [0., 0., 0., 0., 0., 0.]])\n",
    "x"
   ]
  },
  {
   "cell_type": "code",
   "execution_count": 3,
   "metadata": {},
   "outputs": [],
   "source": [
    "def sigmoid(x):\n",
    "    return 1 / (1 + np.exp(-x))"
   ]
  },
  {
   "cell_type": "code",
   "execution_count": 60,
   "metadata": {},
   "outputs": [
    {
     "data": {
      "text/plain": [
       "array([[0, 0, 0, 0, 0, 0],\n",
       "       [0, 0, 0, 0, 0, 1],\n",
       "       [1, 1, 1, 1, 1, 1],\n",
       "       [1, 1, 1, 1, 1, 1],\n",
       "       [1, 1, 1, 1, 1, 1],\n",
       "       [1, 1, 1, 1, 1, 1]])"
      ]
     },
     "execution_count": 60,
     "metadata": {},
     "output_type": "execute_result"
    }
   ],
   "source": [
    "np.where(x > 10, 1, 0)"
   ]
  },
  {
   "cell_type": "code",
   "execution_count": null,
   "metadata": {},
   "outputs": [],
   "source": [
    "np.einsum('i,ij->i',b,a)"
   ]
  },
  {
   "cell_type": "code",
   "execution_count": null,
   "metadata": {},
   "outputs": [],
   "source": [
    "(a*b).sum()"
   ]
  },
  {
   "cell_type": "code",
   "execution_count": 199,
   "metadata": {},
   "outputs": [],
   "source": [
    "x = np.linspace(-0.1, 5.0, num=125).reshape(5,5,5)\n",
    "w = np.linspace(-0.9, 0.6, num=18).reshape(3,3,2)"
   ]
  },
  {
   "cell_type": "code",
   "execution_count": 201,
   "metadata": {},
   "outputs": [],
   "source": [
    "def conv2D(a,b):\n",
    "    if b.shape[0] > a.shape[0]:\n",
    "        return conv2D(b,a)\n",
    "    out_shape = tuple(np.subtract(a.shape,b.shape)+1) + b.shape\n",
    "    conv_steps = np.lib.stride_tricks.as_strided(a,out_shape,a.strides+a.strides)\n",
    "    return np.einsum('ij,klij->kl',np.flip(b),conv_steps)"
   ]
  },
  {
   "cell_type": "code",
   "execution_count": 202,
   "metadata": {},
   "outputs": [],
   "source": [
    "def conv3D(a,b):\n",
    "    if b.shape[0] > a.shape[0]:\n",
    "        return conv3D(b,a)\n",
    "    out_shape = tuple(np.subtract(a.shape,b.shape)+1) + b.shape\n",
    "    conv_steps = np.lib.stride_tricks.as_strided(a,out_shape,a.strides+a.strides)\n",
    "    print(b.shape, conv_steps.shape)\n",
    "    return np.einsum('ijk,abcijk->abc',np.flip(b),conv_steps)"
   ]
  },
  {
   "cell_type": "code",
   "execution_count": 203,
   "metadata": {},
   "outputs": [
    {
     "name": "stderr",
     "output_type": "stream",
     "text": [
      "/Users/seanstapleton/anaconda3/envs/eecs445/lib/python3.7/site-packages/scipy/signal/signaltools.py:491: FutureWarning: Using a non-tuple sequence for multidimensional indexing is deprecated; use `arr[tuple(seq)]` instead of `arr[seq]`. In the future this will be interpreted as an array index, `arr[np.array(seq)]`, which will result either in an error or a different result.\n",
      "  return x[reverse].conj()\n"
     ]
    },
    {
     "data": {
      "text/plain": [
       "array([[[-10.10104839, -10.21209677, -10.32314516, -10.43419355],\n",
       "        [-10.65629032, -10.76733871, -10.8783871 , -10.98943548],\n",
       "        [-11.21153226, -11.32258065, -11.43362903, -11.54467742]],\n",
       "\n",
       "       [[-12.87725806, -12.98830645, -13.09935484, -13.21040323],\n",
       "        [-13.4325    , -13.54354839, -13.65459677, -13.76564516],\n",
       "        [-13.98774194, -14.09879032, -14.20983871, -14.3208871 ]],\n",
       "\n",
       "       [[-15.65346774, -15.76451613, -15.87556452, -15.9866129 ],\n",
       "        [-16.20870968, -16.31975806, -16.43080645, -16.54185484],\n",
       "        [-16.76395161, -16.875     , -16.98604839, -17.09709677]]])"
      ]
     },
     "execution_count": 203,
     "metadata": {},
     "output_type": "execute_result"
    }
   ],
   "source": [
    "signal.convolve(x,w,mode='valid')"
   ]
  },
  {
   "cell_type": "code",
   "execution_count": 204,
   "metadata": {},
   "outputs": [
    {
     "name": "stdout",
     "output_type": "stream",
     "text": [
      "(3, 3, 2) (3, 3, 4, 3, 3, 2)\n"
     ]
    },
    {
     "data": {
      "text/plain": [
       "array([[[-10.10104839, -10.21209677, -10.32314516, -10.43419355],\n",
       "        [-10.65629032, -10.76733871, -10.8783871 , -10.98943548],\n",
       "        [-11.21153226, -11.32258065, -11.43362903, -11.54467742]],\n",
       "\n",
       "       [[-12.87725806, -12.98830645, -13.09935484, -13.21040323],\n",
       "        [-13.4325    , -13.54354839, -13.65459677, -13.76564516],\n",
       "        [-13.98774194, -14.09879032, -14.20983871, -14.3208871 ]],\n",
       "\n",
       "       [[-15.65346774, -15.76451613, -15.87556452, -15.9866129 ],\n",
       "        [-16.20870968, -16.31975806, -16.43080645, -16.54185484],\n",
       "        [-16.76395161, -16.875     , -16.98604839, -17.09709677]]])"
      ]
     },
     "execution_count": 204,
     "metadata": {},
     "output_type": "execute_result"
    }
   ],
   "source": [
    "conv3D(x,w)"
   ]
  },
  {
   "cell_type": "code",
   "execution_count": 205,
   "metadata": {},
   "outputs": [
    {
     "data": {
      "text/plain": [
       "array([[0, 0, 1],\n",
       "       [0, 0, 0],\n",
       "       [0, 0, 0]])"
      ]
     },
     "execution_count": 205,
     "metadata": {},
     "output_type": "execute_result"
    }
   ],
   "source": [
    "np.flip(np.array([[0,0,0],[0,0,0],[1,0,0]]))"
   ]
  },
  {
   "cell_type": "code",
   "execution_count": 208,
   "metadata": {},
   "outputs": [],
   "source": [
    "x = np.array([list(range(i*4,i*4+4)) for i in range(4)])"
   ]
  },
  {
   "cell_type": "code",
   "execution_count": 214,
   "metadata": {},
   "outputs": [
    {
     "data": {
      "text/plain": [
       "array([[ 0,  0,  0,  0,  0,  0,  0,  0,  0,  0,  0,  0],\n",
       "       [ 0,  0,  0,  0,  0,  0,  0,  0,  0,  0,  0,  0],\n",
       "       [ 0,  0,  0,  0,  0,  1,  2,  3,  0,  0,  0,  0],\n",
       "       [ 0,  0,  0,  0,  4,  5,  6,  7,  0,  0,  0,  0],\n",
       "       [ 0,  0,  0,  0,  8,  9, 10, 11,  0,  0,  0,  0],\n",
       "       [ 0,  0,  0,  0, 12, 13, 14, 15,  0,  0,  0,  0],\n",
       "       [ 0,  0,  0,  0,  0,  0,  0,  0,  0,  0,  0,  0],\n",
       "       [ 0,  0,  0,  0,  0,  0,  0,  0,  0,  0,  0,  0]])"
      ]
     },
     "execution_count": 214,
     "metadata": {},
     "output_type": "execute_result"
    }
   ],
   "source": [
    "np.pad(x, ((2,),(4,)),mode='constant')"
   ]
  },
  {
   "cell_type": "code",
   "execution_count": null,
   "metadata": {},
   "outputs": [],
   "source": [
    "\n"
   ]
  },
  {
   "cell_type": "code",
   "execution_count": null,
   "metadata": {},
   "outputs": [],
   "source": []
  },
  {
   "cell_type": "code",
   "execution_count": null,
   "metadata": {},
   "outputs": [],
   "source": []
  },
  {
   "cell_type": "code",
   "execution_count": 216,
   "metadata": {},
   "outputs": [],
   "source": [
    "dx_num = [[[[-2.67653117e+00,-3.79692595e+00, 1.53446832e+00, 1.02503363e+00,\n",
    "     5.98104987e-03, 1.01278954e+00,-1.46351270e+00],\n",
    "   [-2.16836793e-02, 1.88310078e+00, 1.56430174e+00, 2.06013901e+00,\n",
    "    -4.89694715e+00,-1.15412176e-01, 3.34518276e+00],\n",
    "   [-5.37514994e-01, 1.91278261e-01, 8.04669675e-01, 2.40392419e-01,\n",
    "     3.88203881e+00,-6.31818729e+00, 3.44560715e+00],\n",
    "   [-2.10901435e+00, 1.84963808e+00, 1.92708627e+00, 4.75157091e+00,\n",
    "     1.26910659e+00, 3.40340953e+00,-3.42072821e+00],\n",
    "   [ 1.42104685e+00, 5.81159740e+00,-6.40837431e+00, 7.53595638e-01,\n",
    "    -4.93325775e+00, 4.78918402e+00,-3.39456822e-01],\n",
    "   [ 3.00534876e+00, 4.43524659e+00, 3.06570173e+00, 4.51922112e+00,\n",
    "    -2.68187898e+00, 9.77020023e-02, 1.19710219e-01],\n",
    "   [-5.86480715e-01, 1.51273164e+00,-5.40536329e-01,-5.27869471e-01,\n",
    "    -4.52362284e-01,-3.62145757e+00, 3.51199460e+00]],\n",
    "\n",
    "  [[-3.08378534e-01, 1.13855503e+00, 8.17584919e-01,-9.20351671e-01,\n",
    "    -3.55748813e+00,-6.36070912e+00,-4.70473370e-01],\n",
    "   [-2.03796388e+00,-3.71280529e+00,-4.66191609e+00, 2.31460229e-01,\n",
    "    -1.97310580e+00,-3.85972594e+00,-2.29820996e+00],\n",
    "   [-2.33146151e+00,-2.54846558e+00,-4.98430114e+00,-1.09269920e+01,\n",
    "     5.82666432e+00, 1.58440446e+00,-1.09535556e+00],\n",
    "   [ 1.09001021e+00, 4.55895935e+00, 1.13119392e+00,-4.01222968e+00,\n",
    "    -7.61294344e+00,-3.02029028e+00, 2.41221987e-01],\n",
    "   [-1.94786514e+00, 5.41596827e+00, 1.50194322e+00, 4.35291529e+00,\n",
    "    -1.31419008e+00,-2.96531726e+00, 9.85390674e-01],\n",
    "   [-1.62629288e+00, 3.34332426e-02,-6.42240437e-02, 1.62215897e+00,\n",
    "     8.43159892e-02,-2.52746289e+00,-4.89637535e+00],\n",
    "   [-1.44881389e+00, 1.69683198e+00,-8.03542632e+00, 9.19240133e-01,\n",
    "    -3.71144463e+00,-1.81531101e+00, 5.43953770e-01]]],\n",
    "\n",
    "\n",
    " [[[ 2.58186521e+00, 1.35217386e+00,-5.04828780e+00, 9.46597179e-01,\n",
    "    -3.84095972e+00,-2.07685386e+00,-1.88185332e+00],\n",
    "   [-4.17954458e+00,-3.48729232e+00,-1.09141000e+00,-1.42179648e+00,\n",
    "    -4.05580434e+00, 4.73292919e+00,-2.16684112e+00],\n",
    "   [-5.39828888e+00,-3.45676251e+00, 4.07461311e+00,-1.77267114e+00,\n",
    "     3.74196113e+00, 4.14852067e+00, 3.63084964e+00],\n",
    "   [-1.20841440e+00, 1.16690098e-01, 6.48061576e+00,-6.93714313e+00,\n",
    "     3.34098617e+00,-4.81871471e+00, 3.60708308e+00],\n",
    "   [-5.91699532e+00, 2.07779963e+00, 3.30976523e+00,-2.51502625e+00,\n",
    "     2.75152415e+00,-2.80424113e+00, 2.28654247e+00],\n",
    "   [ 9.64484723e-01, 2.40473389e+00,-1.62416981e-01, 7.85141402e-01,\n",
    "     7.76277128e-01, 4.36125537e+00, 2.22647790e+00],\n",
    "   [ 2.06237318e+00, 1.10613147e+00, 1.52688988e+00, 3.84651436e-01,\n",
    "    -3.81473012e+00, 3.55716710e+00,-6.40972379e-01]],\n",
    "\n",
    "  [[-1.34681724e+00, 2.00195038e+00, 1.71332914e+00, 6.62014410e+00,\n",
    "    -8.09873011e-01, 2.58753469e+00, 2.17887566e+00],\n",
    "   [ 5.49338322e-01,-3.86613567e+00, 4.56045615e+00,-2.46904297e+00,\n",
    "    -2.35628151e+00,-3.51075465e+00,-1.01853608e+00],\n",
    "   [ 1.51311570e+00, 4.11940012e+00, 3.61802769e-01, 1.04409083e+00,\n",
    "    -1.25203372e+01,-7.17169461e+00,-8.35228001e+00],\n",
    "   [-2.96689952e+00,-4.83567813e+00, 4.99505299e+00,-4.47290743e+00,\n",
    "     2.05369998e+00,-7.82295013e+00,-2.29164879e+00],\n",
    "   [ 3.69547901e-01,-8.24794836e-01, 1.15400335e+00,-8.11656191e-01,\n",
    "    -3.76662365e+00, 1.92000616e+00, 2.77511910e+00],\n",
    "   [-1.89012030e+00, 2.69440166e+00,-1.71860779e+00, 3.64798288e-01,\n",
    "    -5.90010888e+00,-4.47538095e+00,-2.05435986e+00],\n",
    "   [-1.78469405e+00,-9.91925481e-01, 1.40072303e-03,-2.17383358e+00,\n",
    "    -2.69129850e+00,-2.79433924e+00,-6.36202357e+00]]],\n",
    "\n",
    "\n",
    " [[[-8.51107605e-01,-3.28664422e+00,-1.00505985e+00,-1.38146003e+00,\n",
    "     1.06853236e+00,-4.97210496e+00, 6.75023896e-01],\n",
    "   [-3.12915413e+00, 1.14390960e+00,-2.07544692e+00,-3.38650201e+00,\n",
    "    -3.79359878e+00,-3.97967285e+00,-4.47693871e+00],\n",
    "   [-1.55660225e+00, 9.27487918e+00,-2.02788527e-01,-2.32593005e+00,\n",
    "     2.58101937e+00, 8.74709216e+00,-3.37898906e+00],\n",
    "   [ 2.15733618e+00, 8.63059905e+00,-9.25682499e-01, 5.34329593e+00,\n",
    "    -1.44334474e+00, 6.08031192e+00,-8.56838265e-01],\n",
    "   [ 3.39327436e+00, 2.86772482e+00,-3.63250910e+00, 7.91014817e+00,\n",
    "     1.24112999e+00, 5.49129005e-01, 4.30314283e+00],\n",
    "   [-7.78553174e-01,-1.89122159e+00, 1.07517906e+00,-1.53846473e+00,\n",
    "    -5.79844231e-01,-5.02036961e+00, 1.45860586e+00],\n",
    "   [ 4.54932310e-01,-1.37345119e+00, 6.96334373e-01,-1.14352712e+00,\n",
    "     3.29532150e-01,-3.78074922e+00, 1.68535983e+00]],\n",
    "\n",
    "  [[ 9.54352876e-01, 7.32836352e-01, 8.23581703e-01, 4.04639718e-01,\n",
    "     7.74266815e-01, 3.76098744e+00, 1.34565161e+00],\n",
    "   [-2.03217454e+00, 4.00445531e+00,-1.51020056e-01,-1.74640006e+00,\n",
    "     2.53229143e+00, 3.02754433e+00, 4.94903990e+00],\n",
    "   [-2.32020376e+00,-4.24494176e+00,-4.14050223e+00,-3.23533393e+00,\n",
    "    -8.02753993e+00,-4.09720818e+00, 1.38041482e+00],\n",
    "   [-1.10423335e+00, 1.18040258e-03,-8.09912810e+00,-5.90472023e+00,\n",
    "     3.04874228e+00,-1.19954794e+01,-2.41192137e+00],\n",
    "   [ 4.28058578e-03, 4.57851010e-01, 3.17729740e+00, 6.84310620e-01,\n",
    "     2.95984195e+00,-1.20661382e+01, 5.10442249e+00],\n",
    "   [ 1.30379006e+00, 5.53269873e+00, 1.82113129e+00, 8.27008561e+00,\n",
    "     1.50888071e+00,-1.73417007e+00,-5.80505264e+00],\n",
    "   [ 1.47739693e+00, 1.41965227e+00, 4.67284589e+00, 6.54846305e-01,\n",
    "     3.26734384e+00, 1.26266816e+00, 1.39751960e+00]]]]"
   ]
  },
  {
   "cell_type": "code",
   "execution_count": 215,
   "metadata": {},
   "outputs": [],
   "source": [
    "dw_num = [[[[  1.22578519,  0.45708844, -1.42111047],\n",
    "   [  0.51483094, -5.8174455 , -1.51227653],\n",
    "   [ -9.75065206,  1.73820299,  3.0083405 ]],\n",
    "\n",
    "  [[  7.53078783,  9.31787123, -9.46080145],\n",
    "   [ -7.10940342, -4.80871133, -2.44240741],\n",
    "   [  7.31900178,  3.08441698, -1.32254055]]],\n",
    "\n",
    "\n",
    " [[[-17.64044104,  5.3949532 , -5.29231874],\n",
    "   [  4.15449098, -8.64542525,-14.98227984],\n",
    "   [ -7.2709967 ,  1.74461275,-15.15306711]],\n",
    "\n",
    "  [[ -4.10145399, -4.51921365, -5.4703602 ],\n",
    "   [  4.68346006,  0.9101347 ,  0.59139974],\n",
    "   [  3.56827206, 16.79646725,  3.9015733 ]]],\n",
    "\n",
    "\n",
    " [[[ -4.8629652 , -4.65709821, -9.76225929],\n",
    "   [  3.25907095,  6.48609323,  4.73177081],\n",
    "   [-17.72945951,  3.75607446, 13.35064224]],\n",
    "\n",
    "  [[ -9.8159489 ,-12.99423443,  2.88809544],\n",
    "   [ -2.29773884,-13.03093839, -3.07034593],\n",
    "   [  0.14374542, -9.29652672, -5.06654855]]],\n",
    "\n",
    "\n",
    " [[[ 10.3904732 ,  0.75802625, -0.16918927],\n",
    "   [  2.99245473,  4.65920877,  7.46250478],\n",
    "   [  7.25610597,-10.21942132, -5.84311492]],\n",
    "\n",
    "  [[  7.85034067,  7.98034145,  0.6668679 ],\n",
    "   [ 16.01995965,  5.77466493, -2.00735171],\n",
    "   [  1.59557619,  1.99146712, 11.23250833]]]]"
   ]
  },
  {
   "cell_type": "code",
   "execution_count": 222,
   "metadata": {},
   "outputs": [
    {
     "data": {
      "text/plain": [
       "(4, 2, 3, 3)"
      ]
     },
     "execution_count": 222,
     "metadata": {},
     "output_type": "execute_result"
    }
   ],
   "source": [
    "dw: [[[[  7.53078783   9.31787123  -9.46080145]\n",
    "   [ -7.10940342  -4.80871133  -2.44240741]\n",
    "   [  7.31900178   3.08441698  -1.32254055]]\n",
    "\n",
    "  [[  1.22578519   0.45708844  -1.42111047]\n",
    "   [  0.51483094  -5.8174455   -1.51227653]\n",
    "   [ -9.75065206   1.73820299   3.0083405 ]]]\n",
    "\n",
    "\n",
    " [[[ -4.10145399  -4.51921365  -5.4703602 ]\n",
    "   [  4.68346006   0.9101347    0.59139974]\n",
    "   [  3.56827206  16.79646725   3.9015733 ]]\n",
    "\n",
    "  [[-17.64044104   5.3949532   -5.29231874]\n",
    "   [  4.15449098  -8.64542525 -14.98227984]\n",
    "   [ -7.2709967    1.74461275 -15.15306711]]]\n",
    "\n",
    "\n",
    " [[[ -9.8159489  -12.99423443   2.88809544]\n",
    "   [ -2.29773884 -13.03093839  -3.07034593]\n",
    "   [  0.14374542  -9.29652672  -5.06654855]]\n",
    "\n",
    "  [[ -4.8629652   -4.65709821  -9.76225929]\n",
    "   [  3.25907095   6.48609323   4.73177081]\n",
    "   [-17.72945951   3.75607446  13.35064224]]]\n",
    "\n",
    "\n",
    " [[[  7.85034067   7.98034145   0.6668679 ]\n",
    "   [ 16.01995965   5.77466493  -2.00735171]\n",
    "   [  1.59557619   1.99146712  11.23250833]]\n",
    "\n",
    "  [[ 10.3904732    0.75802625  -0.16918927]\n",
    "   [  2.99245473   4.65920877   7.46250478]\n",
    "   [  7.25610597 -10.21942132  -5.84311492]]]]"
   ]
  },
  {
   "cell_type": "code",
   "execution_count": 8,
   "metadata": {},
   "outputs": [
    {
     "ename": "SyntaxError",
     "evalue": "invalid syntax (<ipython-input-8-91c96f15a4b0>, line 1)",
     "output_type": "error",
     "traceback": [
      "\u001b[0;36m  File \u001b[0;32m\"<ipython-input-8-91c96f15a4b0>\"\u001b[0;36m, line \u001b[0;32m1\u001b[0m\n\u001b[0;31m    dw: [[[[ -1.32254055   3.08441698   7.31900178]\u001b[0m\n\u001b[0m                                    ^\u001b[0m\n\u001b[0;31mSyntaxError\u001b[0m\u001b[0;31m:\u001b[0m invalid syntax\n"
     ]
    }
   ],
   "source": [
    "dw: [[[[ -1.32254055   3.08441698   7.31900178]\n",
    "   [ -2.44240741  -4.80871133  -7.10940342]\n",
    "   [ -9.46080145   9.31787123   7.53078783]]\n",
    "\n",
    "  [[  3.0083405    1.73820299  -9.75065206]\n",
    "   [ -1.51227653  -5.8174455    0.51483094]\n",
    "   [ -1.42111047   0.45708844   1.22578519]]]\n",
    "\n",
    "\n",
    " [[[  3.9015733   16.79646725   3.56827206]\n",
    "   [  0.59139974   0.9101347    4.68346006]\n",
    "   [ -5.4703602   -4.51921365  -4.10145399]]\n",
    "\n",
    "  [[-15.15306711   1.74461275  -7.2709967 ]\n",
    "   [-14.98227984  -8.64542525   4.15449098]\n",
    "   [ -5.29231874   5.3949532  -17.64044104]]]\n",
    "\n",
    "\n",
    " [[[ -5.06654855  -9.29652672   0.14374542]\n",
    "   [ -3.07034593 -13.03093839  -2.29773884]\n",
    "   [  2.88809544 -12.99423443  -9.8159489 ]]\n",
    "\n",
    "  [[ 13.35064224   3.75607446 -17.72945951]\n",
    "   [  4.73177081   6.48609323   3.25907095]\n",
    "   [ -9.76225929  -4.65709821  -4.8629652 ]]]\n",
    "\n",
    "\n",
    " [[[ 11.23250833   1.99146712   1.59557619]\n",
    "   [ -2.00735171   5.77466493  16.01995965]\n",
    "   [  0.6668679    7.98034145   7.85034067]]\n",
    "\n",
    "  [[ -5.84311492 -10.21942132   7.25610597]\n",
    "   [  7.46250478   4.65920877   2.99245473]\n",
    "   [ -0.16918927   0.75802625  10.3904732 ]]]]"
   ]
  },
  {
   "cell_type": "code",
   "execution_count": 25,
   "metadata": {},
   "outputs": [],
   "source": [
    "np.random.seed(498)\n",
    "num_classes, num_inputs = 1, 50\n",
    "x = 0.001 * np.random.randn(num_inputs, num_classes)\n",
    "y = np.random.randint(num_classes + 1, size=num_inputs)\n",
    "for ite in range(num_inputs):\n",
    "    if y[ite] == 0:\n",
    "        y[ite] = -1"
   ]
  },
  {
   "cell_type": "code",
   "execution_count": 41,
   "metadata": {},
   "outputs": [],
   "source": [
    "from sklearn.metrics import log_loss"
   ]
  },
  {
   "cell_type": "code",
   "execution_count": 52,
   "metadata": {},
   "outputs": [],
   "source": [
    "def logistic_loss(x, y):\n",
    "    x_t = x.reshape((x.shape[0],1))\n",
    "    y_t =  y.reshape((y.shape[0],1))\n",
    "    loss_denom = np.log(2)\n",
    "    loss = np.sum(np.log(1+np.exp(-y_t*x_t))/loss_denom)\n",
    "    dx = np.zeros(x.shape)\n",
    "    \n",
    "    return loss, dx"
   ]
  },
  {
   "cell_type": "code",
   "execution_count": 53,
   "metadata": {},
   "outputs": [
    {
     "data": {
      "text/plain": [
       "50.00119898496218"
      ]
     },
     "execution_count": 53,
     "metadata": {},
     "output_type": "execute_result"
    }
   ],
   "source": [
    "logistic_loss(x,y)[0]"
   ]
  },
  {
   "cell_type": "code",
   "execution_count": 71,
   "metadata": {},
   "outputs": [],
   "source": [
    "x = np.array([[1],[2],[3],[4]])\n",
    "y = np.array([[2,4,6,8],[10,100,1000,10000],[0,1,0,1],[1,1,2,2]])"
   ]
  },
  {
   "cell_type": "code",
   "execution_count": 78,
   "metadata": {},
   "outputs": [
    {
     "data": {
      "text/plain": [
       "array([[    2,     4,     6,     8],\n",
       "       [   10,   100,  1000, 10000],\n",
       "       [    0,     1,     0,     1],\n",
       "       [    1,     1,     2,     2]])"
      ]
     },
     "execution_count": 78,
     "metadata": {},
     "output_type": "execute_result"
    }
   ],
   "source": [
    "y"
   ]
  },
  {
   "cell_type": "code",
   "execution_count": 102,
   "metadata": {},
   "outputs": [
    {
     "data": {
      "text/plain": [
       "array([[ True, False, False, False],\n",
       "       [False, False,  True, False],\n",
       "       [False,  True, False, False],\n",
       "       [False,  True, False, False]])"
      ]
     },
     "execution_count": 102,
     "metadata": {},
     "output_type": "execute_result"
    }
   ],
   "source": [
    "np.array([[c == idx[0] for c in range(4)] for idx in t])"
   ]
  },
  {
   "cell_type": "code",
   "execution_count": 112,
   "metadata": {},
   "outputs": [
    {
     "data": {
      "text/plain": [
       "array([[    -2,     -4,     -6,     -8],\n",
       "       [   -10,   -100,  -1000, -10000],\n",
       "       [     0,     -1,      0,     -1],\n",
       "       [    -1,     -1,     -2,     -2]])"
      ]
     },
     "execution_count": 112,
     "metadata": {},
     "output_type": "execute_result"
    }
   ],
   "source": [
    "y"
   ]
  },
  {
   "cell_type": "code",
   "execution_count": 141,
   "metadata": {},
   "outputs": [],
   "source": [
    "def softmax(a):\n",
    "    num = np.exp(a)\n",
    "    print(num)\n",
    "    denom = np.sum(num, axis=1, keepdims=True)\n",
    "    print(denom)\n",
    "    return num/denom"
   ]
  },
  {
   "cell_type": "code",
   "execution_count": 144,
   "metadata": {
    "scrolled": true
   },
   "outputs": [
    {
     "data": {
      "text/plain": [
       "array([[[1]],\n",
       "\n",
       "       [[2]],\n",
       "\n",
       "       [[3]],\n",
       "\n",
       "       [[4]]])"
      ]
     },
     "execution_count": 144,
     "metadata": {},
     "output_type": "execute_result"
    }
   ],
   "source": [
    "np.expand_dims(x, 1)"
   ]
  },
  {
   "cell_type": "code",
   "execution_count": 184,
   "metadata": {},
   "outputs": [],
   "source": [
    "out_shape = (2,2,2,2)\n",
    "strides = (64,16,32,8)\n",
    "pool_blocks = np.lib.stride_tricks.as_strided(y,out_shape,strides)"
   ]
  },
  {
   "cell_type": "code",
   "execution_count": 185,
   "metadata": {},
   "outputs": [
    {
     "data": {
      "text/plain": [
       "array([[[[    -2,     -4],\n",
       "         [   -10,   -100]],\n",
       "\n",
       "        [[    -6,     -8],\n",
       "         [ -1000, -10000]]],\n",
       "\n",
       "\n",
       "       [[[     0,     -1],\n",
       "         [    -1,     -1]],\n",
       "\n",
       "        [[     0,     -1],\n",
       "         [    -2,     -2]]]])"
      ]
     },
     "execution_count": 185,
     "metadata": {},
     "output_type": "execute_result"
    }
   ],
   "source": [
    "pool_blocks"
   ]
  },
  {
   "cell_type": "code",
   "execution_count": 166,
   "metadata": {},
   "outputs": [
    {
     "data": {
      "text/plain": [
       "array([[    -2,     -4,     -6,     -8],\n",
       "       [   -10,   -100,  -1000, -10000],\n",
       "       [     0,     -1,      0,     -1],\n",
       "       [    -1,     -1,     -2,     -2]])"
      ]
     },
     "execution_count": 166,
     "metadata": {},
     "output_type": "execute_result"
    }
   ],
   "source": [
    "y"
   ]
  },
  {
   "cell_type": "code",
   "execution_count": 136,
   "metadata": {},
   "outputs": [
    {
     "data": {
      "text/plain": [
       "array([[    -2,     -4,     -6,     -8],\n",
       "       [   -10,   -100,  -1000, -10000],\n",
       "       [     0,     -1,      0,     -1],\n",
       "       [    -1,     -1,     -2,     -2]])"
      ]
     },
     "execution_count": 136,
     "metadata": {},
     "output_type": "execute_result"
    }
   ],
   "source": [
    "y"
   ]
  },
  {
   "cell_type": "code",
   "execution_count": 219,
   "metadata": {},
   "outputs": [],
   "source": [
    "def conv2D(a,b):\n",
    "    if b.shape[0] > a.shape[0]:\n",
    "        return conv2D(b,a)\n",
    "    out_shape = tuple(np.subtract(a.shape,b.shape)+1) + b.shape\n",
    "    conv_steps = np.lib.stride_tricks.as_strided(a,out_shape,a.strides+a.strides)\n",
    "    # (3,3) (4,4,3,3)\n",
    "    return np.einsum('ij,klij->kl',np.flip(b),conv_steps)"
   ]
  },
  {
   "cell_type": "code",
   "execution_count": 191,
   "metadata": {},
   "outputs": [],
   "source": [
    "filt = np.array([[0,1],[0,1]])"
   ]
  },
  {
   "cell_type": "code",
   "execution_count": 192,
   "metadata": {},
   "outputs": [
    {
     "data": {
      "text/plain": [
       "array([[0, 1],\n",
       "       [0, 1]])"
      ]
     },
     "execution_count": 192,
     "metadata": {},
     "output_type": "execute_result"
    }
   ],
   "source": [
    "filt"
   ]
  },
  {
   "cell_type": "code",
   "execution_count": 205,
   "metadata": {},
   "outputs": [
    {
     "data": {
      "text/plain": [
       "array([[    -2,     -4,     -6,     -8],\n",
       "       [   -10,   -100,  -1000, -10000],\n",
       "       [     0,     -1,      0,     -1],\n",
       "       [    -1,     -1,     -2,     -2]])"
      ]
     },
     "execution_count": 205,
     "metadata": {},
     "output_type": "execute_result"
    }
   ],
   "source": [
    "y"
   ]
  },
  {
   "cell_type": "code",
   "execution_count": 196,
   "metadata": {},
   "outputs": [],
   "source": [
    "f = np.array([[[0,1],[2,3]],[[4,5],[6,7]]])"
   ]
  },
  {
   "cell_type": "code",
   "execution_count": 206,
   "metadata": {},
   "outputs": [
    {
     "data": {
      "text/plain": [
       "array([[0, 1],\n",
       "       [0, 1]])"
      ]
     },
     "execution_count": 206,
     "metadata": {},
     "output_type": "execute_result"
    }
   ],
   "source": [
    "filt"
   ]
  },
  {
   "cell_type": "code",
   "execution_count": 198,
   "metadata": {},
   "outputs": [
    {
     "data": {
      "text/plain": [
       "array([[[0, 1],\n",
       "        [2, 3]],\n",
       "\n",
       "       [[4, 5],\n",
       "        [6, 7]]])"
      ]
     },
     "execution_count": 198,
     "metadata": {},
     "output_type": "execute_result"
    }
   ],
   "source": [
    "f"
   ]
  },
  {
   "cell_type": "code",
   "execution_count": 200,
   "metadata": {},
   "outputs": [],
   "source": [
    "from scipy.signal import convolve2d"
   ]
  },
  {
   "cell_type": "code",
   "execution_count": 220,
   "metadata": {},
   "outputs": [
    {
     "data": {
      "text/plain": [
       "array([[  -12,  -104, -1006],\n",
       "       [  -10,  -101, -1000],\n",
       "       [   -1,    -2,    -2]])"
      ]
     },
     "execution_count": 220,
     "metadata": {},
     "output_type": "execute_result"
    }
   ],
   "source": [
    "convolve2d(y,filt, mode='valid')"
   ]
  },
  {
   "cell_type": "code",
   "execution_count": 222,
   "metadata": {},
   "outputs": [
    {
     "data": {
      "text/plain": [
       "array([[  -104,  -1006, -10008],\n",
       "       [  -101,  -1000, -10001],\n",
       "       [    -2,     -2,     -3]])"
      ]
     },
     "execution_count": 222,
     "metadata": {},
     "output_type": "execute_result"
    }
   ],
   "source": [
    "conv2D(y,np.flip(filt))"
   ]
  },
  {
   "cell_type": "code",
   "execution_count": null,
   "metadata": {},
   "outputs": [],
   "source": []
  }
 ],
 "metadata": {
  "kernelspec": {
   "display_name": "Python 3",
   "language": "python",
   "name": "python3"
  },
  "language_info": {
   "codemirror_mode": {
    "name": "ipython",
    "version": 3
   },
   "file_extension": ".py",
   "mimetype": "text/x-python",
   "name": "python",
   "nbconvert_exporter": "python",
   "pygments_lexer": "ipython3",
   "version": "3.7.1"
  }
 },
 "nbformat": 4,
 "nbformat_minor": 2
}
