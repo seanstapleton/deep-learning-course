{
 "cells": [
  {
   "cell_type": "code",
   "execution_count": 1,
   "metadata": {},
   "outputs": [],
   "source": [
    "import numpy as np\n",
    "import pickle\n",
    "from cnn import ConvNet\n",
    "from solver import Solver\n",
    "from sklearn.model_selection import train_test_split"
   ]
  },
  {
   "cell_type": "code",
   "execution_count": 2,
   "metadata": {},
   "outputs": [],
   "source": [
    "pickle_in = open(\"mnist.pkl\",\"rb\")\n",
    "data_in = pickle.load(pickle_in, encoding='latin1')"
   ]
  },
  {
   "cell_type": "code",
   "execution_count": 3,
   "metadata": {},
   "outputs": [],
   "source": [
    "data_train = data_in['training_images']\n",
    "labels_train  = data_in['training_labels']\n",
    "X_train,X_val,y_train,y_val = train_test_split(data_train, labels_train, test_size=0.1)"
   ]
  },
  {
   "cell_type": "code",
   "execution_count": 4,
   "metadata": {},
   "outputs": [],
   "source": [
    "X_train = X_train.reshape((-1,1,28,28))\n",
    "X_val = X_val.reshape((-1,1,28,28))"
   ]
  },
  {
   "cell_type": "code",
   "execution_count": null,
   "metadata": {},
   "outputs": [
    {
     "name": "stdout",
     "output_type": "stream",
     "text": [
      "(Iteration 189 / 54000) loss: 0.185128\n",
      "(Iteration 190 / 54000) loss: 0.160173\n",
      "(Iteration 191 / 54000) loss: 0.173262\n",
      "(Iteration 192 / 54000) loss: 0.097060\n",
      "(Iteration 193 / 54000) loss: 0.135387\n",
      "(Iteration 194 / 54000) loss: 0.183655\n",
      "(Iteration 195 / 54000) loss: 0.210412\n",
      "(Iteration 196 / 54000) loss: 0.208195\n",
      "(Iteration 197 / 54000) loss: 0.096088\n",
      "(Iteration 198 / 54000) loss: 0.317527\n",
      "(Iteration 199 / 54000) loss: 0.191493\n",
      "(Iteration 200 / 54000) loss: 0.100925\n",
      "(Iteration 201 / 54000) loss: 0.123704\n",
      "(Iteration 202 / 54000) loss: 0.306650\n",
      "(Iteration 203 / 54000) loss: 0.106460\n",
      "(Iteration 204 / 54000) loss: 0.125217\n",
      "(Iteration 205 / 54000) loss: 0.160553\n",
      "(Iteration 206 / 54000) loss: 0.094787\n",
      "(Iteration 207 / 54000) loss: 0.137295\n",
      "(Iteration 208 / 54000) loss: 0.143907\n",
      "(Iteration 209 / 54000) loss: 0.203102\n",
      "(Iteration 210 / 54000) loss: 0.389015\n",
      "(Iteration 211 / 54000) loss: 0.239874\n",
      "(Iteration 212 / 54000) loss: 0.163700\n",
      "(Iteration 213 / 54000) loss: 0.093451\n",
      "(Iteration 214 / 54000) loss: 0.134373\n",
      "(Iteration 215 / 54000) loss: 0.062597\n",
      "(Iteration 216 / 54000) loss: 0.126199\n",
      "(Iteration 217 / 54000) loss: 0.119295\n",
      "(Iteration 218 / 54000) loss: 0.136471\n",
      "(Iteration 219 / 54000) loss: 0.143899\n",
      "(Iteration 220 / 54000) loss: 0.063210\n",
      "(Iteration 221 / 54000) loss: 0.296173\n",
      "(Iteration 222 / 54000) loss: 0.098717\n",
      "(Iteration 223 / 54000) loss: 0.109467\n",
      "(Iteration 224 / 54000) loss: 0.131959\n",
      "(Iteration 225 / 54000) loss: 0.093596\n",
      "(Iteration 226 / 54000) loss: 0.139185\n",
      "(Iteration 227 / 54000) loss: 0.101608\n",
      "(Iteration 228 / 54000) loss: 0.090047\n",
      "(Iteration 229 / 54000) loss: 0.083784\n",
      "(Iteration 230 / 54000) loss: 0.086697\n",
      "(Iteration 231 / 54000) loss: 0.283999\n",
      "(Iteration 232 / 54000) loss: 0.260284\n",
      "(Iteration 233 / 54000) loss: 0.111428\n",
      "(Iteration 234 / 54000) loss: 0.067711\n",
      "(Iteration 235 / 54000) loss: 0.254555\n",
      "(Iteration 236 / 54000) loss: 0.126883\n",
      "(Iteration 237 / 54000) loss: 0.166757\n",
      "(Iteration 238 / 54000) loss: 0.128698\n"
     ]
    }
   ],
   "source": [
    "data = {\n",
    "    'X_train': X_train,\n",
    "    'y_train': y_train,\n",
    "    'X_val': X_val,\n",
    "    'y_val': y_val\n",
    "}\n",
    "model = ConvNet(input_dim=(1, 28, 28), num_classes=10)\n",
    "solver = Solver(\n",
    "        model,\n",
    "        data,\n",
    "        update_rule='sgd',\n",
    "        optim_config={ 'learning_rate': 0.01 },\n",
    "        lr_decay=0.99,\n",
    "        num_epochs=100,\n",
    "        batch_size=100,\n",
    "        print_every=1,\n",
    "        save_every=1,\n",
    "        load='convNet1.pkl',\n",
    "        save_name='convNet1.pkl'\n",
    "    )\n",
    "val_accuracy = solver.train()"
   ]
  },
  {
   "cell_type": "code",
   "execution_count": null,
   "metadata": {},
   "outputs": [],
   "source": [
    "# data = {\n",
    "#     'X_train': X_train,\n",
    "#     'y_train': y_train,\n",
    "#     'X_val': X_val,\n",
    "#     'y_val': y_val\n",
    "# }\n",
    "\n",
    "# model = SoftmaxClassifier(input_dim=784,hidden_dim=300)\n",
    "# solver = Solver(\n",
    "#         model,\n",
    "#         data,\n",
    "#         update_rule='sgd',\n",
    "#         optim_config={ 'learning_rate': 0.003 },\n",
    "#         lr_decay=1,\n",
    "#         num_epochs=10,\n",
    "#         batch_size=100,\n",
    "#         print_every=1000\n",
    "#     )\n",
    "# val_accuracy = solver.train()\n"
   ]
  },
  {
   "cell_type": "code",
   "execution_count": null,
   "metadata": {},
   "outputs": [],
   "source": [
    "# data_to_save = {\n",
    "#     'params': solver.model.params,\n",
    "#     'start': 95,\n",
    "#     'epoch': solver.epoch,\n",
    "#     'train_acc_history': solver.train_acc_history,\n",
    "#     'val_acc_history': solver.val_acc_history,\n",
    "#     'best_val_acc': solver.best_val_acc,\n",
    "#     'best_params': solver.best_params\n",
    "# }\n",
    "# pickle.dump( data_to_save, open( 'convNet1.pkl', \"wb\" ) )"
   ]
  },
  {
   "cell_type": "code",
   "execution_count": 6,
   "metadata": {},
   "outputs": [],
   "source": [
    "pickle_in = open(\"convNet1.pkl\",\"rb\")\n",
    "convNetData = pickle.load(pickle_in)"
   ]
  },
  {
   "cell_type": "code",
   "execution_count": 7,
   "metadata": {},
   "outputs": [],
   "source": [
    "model = ConvNet(input_dim=(1, 28, 28), num_classes=10)\n",
    "model.params = convNetData['params']"
   ]
  },
  {
   "cell_type": "code",
   "execution_count": 11,
   "metadata": {},
   "outputs": [],
   "source": [
    "X_test = data_in['test_images'].reshape((-1,1,28,28))"
   ]
  },
  {
   "cell_type": "code",
   "execution_count": 12,
   "metadata": {},
   "outputs": [],
   "source": [
    "scores = model.loss(X_test)"
   ]
  },
  {
   "cell_type": "code",
   "execution_count": 16,
   "metadata": {},
   "outputs": [],
   "source": [
    "y_pred = np.argmax(scores, axis=1)"
   ]
  },
  {
   "cell_type": "code",
   "execution_count": 17,
   "metadata": {},
   "outputs": [],
   "source": [
    "y_test = data_in['test_labels']"
   ]
  },
  {
   "cell_type": "code",
   "execution_count": 21,
   "metadata": {},
   "outputs": [],
   "source": [
    "y_pred_1 = np.hstack(y_pred)\n",
    "acc = np.mean(y_pred_1 == y_test)"
   ]
  },
  {
   "cell_type": "code",
   "execution_count": 22,
   "metadata": {},
   "outputs": [
    {
     "data": {
      "text/plain": [
       "0.9582"
      ]
     },
     "execution_count": 22,
     "metadata": {},
     "output_type": "execute_result"
    }
   ],
   "source": [
    "acc"
   ]
  },
  {
   "cell_type": "code",
   "execution_count": null,
   "metadata": {},
   "outputs": [],
   "source": []
  }
 ],
 "metadata": {
  "kernelspec": {
   "display_name": "Python 3",
   "language": "python",
   "name": "python3"
  },
  "language_info": {
   "codemirror_mode": {
    "name": "ipython",
    "version": 3
   },
   "file_extension": ".py",
   "mimetype": "text/x-python",
   "name": "python",
   "nbconvert_exporter": "python",
   "pygments_lexer": "ipython3",
   "version": "3.7.1"
  }
 },
 "nbformat": 4,
 "nbformat_minor": 2
}
